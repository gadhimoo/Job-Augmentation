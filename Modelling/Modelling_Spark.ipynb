{
 "cells": [
  {
   "cell_type": "markdown",
   "id": "a667ccb4",
   "metadata": {},
   "source": [
    "# Modelling and HyperParameter tuning"
   ]
  },
  {
   "cell_type": "markdown",
   "id": "4918356e",
   "metadata": {},
   "source": [
    "In this notebook, the modeling phase is achieved. Three different models: decision trees, random forest and logistic regression are used. The models are also compared with the augmented dataset vs the non-augmented dataset. The hyper parameter tuning is achieved using cross-validation."
   ]
  },
  {
   "cell_type": "markdown",
   "id": "42d29fa2",
   "metadata": {},
   "source": [
    "## Import Packages and Read Data "
   ]
  },
  {
   "cell_type": "code",
   "execution_count": 1,
   "id": "81dd6195",
   "metadata": {},
   "outputs": [],
   "source": [
    "# Import the neccessary packages\n",
    "import sparknlp\n",
    "from sparknlp.base import *\n",
    "from sparknlp.annotator import *\n",
    "from sparknlp.pretrained import PretrainedPipeline\n",
    "import sparknlp\n",
    "\n",
    "from pyspark.sql import SparkSession\n",
    "from pyspark.ml import Pipeline\n",
    "from pyspark.ml.feature import HashingTF, IDF, StringIndexer, SQLTransformer,IndexToString\n",
    "from pyspark.ml.classification import LogisticRegression, DecisionTreeClassifier, RandomForestClassifier\n",
    "from pyspark.ml.evaluation import MulticlassClassificationEvaluator\n",
    "from pyspark.sql.types import IntegerType\n",
    "from pyspark.ml.tuning import CrossValidator, ParamGridBuilder\n",
    "from pyspark.mllib.evaluation import MulticlassMetrics\n",
    "\n",
    "import pandas as pd\n",
    "\n",
    "from sklearn.metrics import confusion_matrix\n",
    "\n",
    "import numpy as np\n",
    "\n",
    "import matplotlib.pyplot as plt \n",
    "from matplotlib.pyplot import figure"
   ]
  },
  {
   "cell_type": "code",
   "execution_count": 2,
   "id": "eade45c8",
   "metadata": {},
   "outputs": [],
   "source": [
    "# Start Spark Session with Spark NLP\n",
    "spark = sparknlp.start()"
   ]
  },
  {
   "cell_type": "code",
   "execution_count": 3,
   "id": "302b07ac",
   "metadata": {},
   "outputs": [],
   "source": [
    "# Read dataframes as spark dataframes\n",
    "\n",
    "# Non-augmented training set\n",
    "sparkDf = spark.read.option(\"header\",True).csv(\"../Data/cleanedpandasDf.csv\")\n",
    "\n",
    "# Test set\n",
    "sparkTestDf = spark.read.option(\"header\",True).csv(\"../Data/cleanedpandastestDf.csv\")\n",
    "\n",
    "# Augmented training set\n",
    "sparkAugDf = spark.read.option(\"header\",True).csv(\"../Data/cleanedAugmentedPandasDf.csv\")"
   ]
  },
  {
   "cell_type": "markdown",
   "id": "8c01d445",
   "metadata": {},
   "source": [
    "## Generating Embeddings"
   ]
  },
  {
   "cell_type": "code",
   "execution_count": 4,
   "id": "403e1f40",
   "metadata": {},
   "outputs": [],
   "source": [
    "def generateEmbeddings(df, columnName):\n",
    "    \"\"\"\n",
    "    This function builds a pipeline and generates the tf-idf embeddings for a given data frame and a chosen textual column (title/description/text)\n",
    "    and returns the dataframe with embeddings.\n",
    "    \"\"\"\n",
    "    document_assembler = DocumentAssembler() \\\n",
    "        .setInputCol(columnName) \\\n",
    "        .setOutputCol(\"document\")\n",
    "\n",
    "    # convert document to array of tokens\n",
    "    tokenizer = Tokenizer() \\\n",
    "      .setInputCols([\"document\"]) \\\n",
    "      .setOutputCol(\"token\")\n",
    "\n",
    "    #check spellings\n",
    "    spell_model = ContextSpellCheckerModel\\\n",
    "        .pretrained('spellcheck_dl')\\\n",
    "        .setInputCols(\"token\")\\\n",
    "        .setOutputCol(\"corrected\")\n",
    "\n",
    "    # clean tokens \n",
    "    normalizer = Normalizer() \\\n",
    "        .setInputCols([\"corrected\"]) \\\n",
    "        .setOutputCol(\"normalized\")\n",
    "\n",
    "    # remove stopwords\n",
    "    stopwords_cleaner = StopWordsCleaner()\\\n",
    "          .setInputCols(\"normalized\")\\\n",
    "          .setOutputCol(\"cleanTokens\")\\\n",
    "          .setCaseSensitive(False)\n",
    "\n",
    "    # lemmas tokens to bring it to root form\n",
    "    lemmatizer = LemmatizerModel.pretrained() \\\n",
    "        .setInputCols([\"token\"]) \\\n",
    "        .setOutputCol(\"lemma\")\n",
    "\n",
    "    # Convert custom document structure to array of tokens.\n",
    "    finisher = Finisher() \\\n",
    "        .setInputCols([\"lemma\"]) \\\n",
    "        .setOutputCols([\"token_features\"]) \\\n",
    "        .setOutputAsArray(True) \\\n",
    "        .setCleanAnnotations(False)\n",
    "\n",
    "    # To generate Term Frequency\n",
    "    hashingTF = HashingTF(inputCol=\"token_features\", outputCol=\"rawFeatures\", numFeatures=1000)\n",
    "\n",
    "    # To generate Inverse Document Frequency\n",
    "    idf = IDF(inputCol=\"rawFeatures\", outputCol=\"features\", minDocFreq=5)\n",
    "\n",
    "    # convert labels (string) to integers. Easy to process compared to string.\n",
    "    label_stringIdx = StringIndexer(inputCol = \"level\", outputCol = \"label\")\n",
    "\n",
    "    # define the nlp pipeline\n",
    "    nlp_pipeline = Pipeline(\n",
    "        stages=[document_assembler, \n",
    "                tokenizer,\n",
    "                spell_model,\n",
    "                normalizer,\n",
    "                stopwords_cleaner, \n",
    "                lemmatizer, \n",
    "                finisher,\n",
    "                hashingTF,\n",
    "                idf,\n",
    "                label_stringIdx])\n",
    "\n",
    "    # fit the pipeline \n",
    "    pipeline_model = nlp_pipeline.fit(df)\n",
    "    # generate embeddings\n",
    "    embeddings =  pipeline_model.transform(df)\n",
    "\n",
    "    return embeddings"
   ]
  },
  {
   "cell_type": "markdown",
   "id": "83b795f4",
   "metadata": {},
   "source": [
    "#### Generate embeddings for non-augmented dataset "
   ]
  },
  {
   "cell_type": "code",
   "execution_count": 5,
   "id": "ebf05817",
   "metadata": {
    "scrolled": false
   },
   "outputs": [
    {
     "name": "stdout",
     "output_type": "stream",
     "text": [
      "spellcheck_dl download started this may take some time.\n",
      "Approximate size to download 111.4 MB\n",
      "[OK!]\n",
      "lemma_antbnc download started this may take some time.\n",
      "Approximate size to download 907.6 KB\n",
      "[OK!]\n",
      "spellcheck_dl download started this may take some time.\n",
      "Approximate size to download 111.4 MB\n",
      "[OK!]\n",
      "lemma_antbnc download started this may take some time.\n",
      "Approximate size to download 907.6 KB\n",
      "[OK!]\n",
      "spellcheck_dl download started this may take some time.\n",
      "Approximate size to download 111.4 MB\n",
      "[OK!]\n",
      "lemma_antbnc download started this may take some time.\n",
      "Approximate size to download 907.6 KB\n",
      "[OK!]\n"
     ]
    }
   ],
   "source": [
    "# Generating embeddings for the \"title\" column\n",
    "title_embeddings = generateEmbeddings(sparkDf, \"title\")\n",
    "\n",
    "# Generating embeddings for the \"description\" column\n",
    "description_embeddings = generateEmbeddings(sparkDf, \"description\")\n",
    "\n",
    "# Generating embeddings for the \"text\" column\n",
    "text_embeddings = generateEmbeddings(sparkDf, \"text\")"
   ]
  },
  {
   "cell_type": "markdown",
   "id": "1916b387",
   "metadata": {},
   "source": [
    "#### Generate embeddings for the augmented dataset "
   ]
  },
  {
   "cell_type": "code",
   "execution_count": 6,
   "id": "0049fe79",
   "metadata": {},
   "outputs": [
    {
     "name": "stdout",
     "output_type": "stream",
     "text": [
      "spellcheck_dl download started this may take some time.\n",
      "Approximate size to download 111.4 MB\n",
      "[OK!]\n",
      "lemma_antbnc download started this may take some time.\n",
      "Approximate size to download 907.6 KB\n",
      "[OK!]\n"
     ]
    }
   ],
   "source": [
    "# Generating embeddings for the \"text\" column\n",
    "augEmbeddings = generateEmbeddings(sparkAugDf, \"text\")"
   ]
  },
  {
   "cell_type": "code",
   "execution_count": 8,
   "id": "7a00b768",
   "metadata": {},
   "outputs": [
    {
     "name": "stdout",
     "output_type": "stream",
     "text": [
      "+-----+-----+\n",
      "|level|label|\n",
      "+-----+-----+\n",
      "|    2|  1.0|\n",
      "|    0|  2.0|\n",
      "|    1|  3.0|\n",
      "|    3|  0.0|\n",
      "+-----+-----+\n",
      "\n"
     ]
    }
   ],
   "source": [
    "augEmbeddings.select('level','label').distinct().show()"
   ]
  },
  {
   "cell_type": "markdown",
   "id": "96738adc",
   "metadata": {},
   "source": [
    "## Train-test split "
   ]
  },
  {
   "cell_type": "code",
   "execution_count": 9,
   "id": "7299e458",
   "metadata": {},
   "outputs": [],
   "source": [
    "def trainTestSplit(df):\n",
    "    \"\"\"\n",
    "    Split dataframe into train and test sets by stratified sampling.\n",
    "    \n",
    "    \"\"\"\n",
    "    # Create test set by stratified sampling (15% of each class)\n",
    "    test = df.sampleBy(\"label\", fractions={0.0: 0.15,\n",
    "                                           1.0: 0.15,\n",
    "                                           2.0: 0.15,\n",
    "                                           3.0: 0.15},\n",
    "                       seed=100)\n",
    "    \n",
    "    # Remove test set entries from original dataframe to create train set\n",
    "    train = df.join(test, on='_c0', how='left_anti')\n",
    "    \n",
    "    return train, test"
   ]
  },
  {
   "cell_type": "markdown",
   "id": "6ec3a1ad",
   "metadata": {},
   "source": [
    "### title_embeddings "
   ]
  },
  {
   "cell_type": "code",
   "execution_count": 10,
   "id": "2f856e41",
   "metadata": {},
   "outputs": [],
   "source": [
    " # Split the dataframe into train and test\n",
    "title_train, title_test = trainTestSplit(title_embeddings)"
   ]
  },
  {
   "cell_type": "markdown",
   "id": "dc2c4dfa",
   "metadata": {},
   "source": [
    "### description_embeddings "
   ]
  },
  {
   "cell_type": "code",
   "execution_count": 11,
   "id": "3bfb9c1f",
   "metadata": {},
   "outputs": [],
   "source": [
    " # Split the dataframe into train and test\n",
    "description_train, description_test = trainTestSplit(description_embeddings)"
   ]
  },
  {
   "cell_type": "markdown",
   "id": "2dfcaca6",
   "metadata": {},
   "source": [
    "### text_embeddings "
   ]
  },
  {
   "cell_type": "code",
   "execution_count": 12,
   "id": "37187731",
   "metadata": {},
   "outputs": [],
   "source": [
    " # Split the dataframe into train and test\n",
    "text_train, text_test = trainTestSplit(text_embeddings)"
   ]
  },
  {
   "cell_type": "markdown",
   "id": "fa1ab5cd",
   "metadata": {},
   "source": [
    "### augmented_embeddings "
   ]
  },
  {
   "cell_type": "code",
   "execution_count": 13,
   "id": "a1bc8d06",
   "metadata": {},
   "outputs": [],
   "source": [
    " # Split the dataframe into train and test\n",
    "aug_train, aug_test = trainTestSplit(augEmbeddings)"
   ]
  },
  {
   "cell_type": "markdown",
   "id": "17a8777c",
   "metadata": {},
   "source": [
    "## Modelling "
   ]
  },
  {
   "cell_type": "code",
   "execution_count": 14,
   "id": "7d08c51a",
   "metadata": {},
   "outputs": [],
   "source": [
    "def metricsEvaluation(prediction):\n",
    "    \"\"\"\n",
    "    This function calculates the confusion matrix, the accuracy, precision, recall scores for the given prediction.\n",
    "    \"\"\"    \n",
    "    \n",
    "     #accuracy\n",
    "    evaluator = MulticlassClassificationEvaluator(\n",
    "        labelCol=\"label\", predictionCol=\"prediction\", metricName=\"accuracy\")\n",
    "    accuracy = evaluator.evaluate(prediction)\n",
    "    print(\"Accuracy = %g\" % (accuracy))\n",
    "\n",
    "    #precision\n",
    "    evaluator = MulticlassClassificationEvaluator(\n",
    "        labelCol=\"label\", predictionCol=\"prediction\", metricName=\"weightedPrecision\")\n",
    "    precision = evaluator.evaluate(prediction)\n",
    "    print(\"Precision = %g\" % (precision))\n",
    "\n",
    "    #recall\n",
    "    evaluator = MulticlassClassificationEvaluator(\n",
    "        labelCol=\"label\", predictionCol=\"prediction\", metricName=\"weightedRecall\")\n",
    "    recall = evaluator.evaluate(prediction)\n",
    "    print(\"Recall = %g\" % (recall))\n",
    "    \n",
    "    #recall\n",
    "    evaluator = MulticlassClassificationEvaluator(\n",
    "        labelCol=\"label\", predictionCol=\"prediction\", metricName=\"f1\")\n",
    "    f1score = evaluator.evaluate(prediction)\n",
    "    print(\"F1_score = %g\" % (f1score))\n",
    "    \n",
    "    #confusion matrix\n",
    "    df = prediction.select(\"label\", \"prediction\").toPandas()\n",
    "    confusionMatrix = confusion_matrix(df[\"label\"], df[\"prediction\"])\n",
    "    print(\"\\nCONFUSION MATRIX\\n\")\n",
    "    print(confusionMatrix)\n",
    "    \n",
    "    \n",
    "    return accuracy, precision, recall, confusionMatrix\n",
    "    "
   ]
  },
  {
   "cell_type": "markdown",
   "id": "9f1e76ea",
   "metadata": {},
   "source": [
    "### Decision Tree "
   ]
  },
  {
   "cell_type": "code",
   "execution_count": 13,
   "id": "d547a131",
   "metadata": {},
   "outputs": [],
   "source": [
    "def decisionTreeClassifierModel(train, test):\n",
    "    \"\"\"\n",
    "    This function builds the decision tree classifier model and returns the evaluation scores.\n",
    "    \"\"\"\n",
    "    \n",
    "    # Create initial Decision Tree Model\n",
    "    model = DecisionTreeClassifier(labelCol=\"label\", featuresCol=\"features\")\n",
    "    \n",
    "    # fit the model on the training set\n",
    "    dt = model.fit(train)\n",
    "    \n",
    "    # Transform the test set to get the prediction\n",
    "    prediction = dt.transform(test)\n",
    "    \n",
    "    return metricsEvaluation(prediction)"
   ]
  },
  {
   "cell_type": "markdown",
   "id": "5e876451",
   "metadata": {},
   "source": [
    "#### Non-augmented Dataset "
   ]
  },
  {
   "cell_type": "markdown",
   "id": "92946805",
   "metadata": {},
   "source": [
    "map: {0: senior-level, 1: mid-level, 2: Entry-level, 3: internships}"
   ]
  },
  {
   "cell_type": "code",
   "execution_count": 14,
   "id": "1cec8496",
   "metadata": {
    "scrolled": true
   },
   "outputs": [
    {
     "name": "stdout",
     "output_type": "stream",
     "text": [
      "Title\n",
      "\n",
      "Accuracy = 0.55\n",
      "Precision = 0.589286\n",
      "Recall = 0.55\n",
      "F1_score = 0.506124\n",
      "\n",
      "CONFUSION MATRIX\n",
      "\n",
      "[[4 0 3 0]\n",
      " [0 0 5 0]\n",
      " [0 0 5 0]\n",
      " [0 0 1 2]]\n"
     ]
    }
   ],
   "source": [
    "# checking for the title embeddings\n",
    "print(\"Title\\n\")\n",
    "accuracyTtl_dt, precisionTtl_dt, recallTtl_dt, confusionMatrixTtl_dt = decisionTreeClassifierModel(title_train, title_test)"
   ]
  },
  {
   "cell_type": "code",
   "execution_count": 15,
   "id": "3b60b2bc",
   "metadata": {},
   "outputs": [
    {
     "name": "stdout",
     "output_type": "stream",
     "text": [
      "Description\n",
      "\n",
      "Accuracy = 0.25\n",
      "Precision = 0.2\n",
      "Recall = 0.25\n",
      "F1_score = 0.209868\n",
      "\n",
      "CONFUSION MATRIX\n",
      "\n",
      "[[4 1 0 2]\n",
      " [3 0 1 1]\n",
      " [3 1 1 0]\n",
      " [2 0 1 0]]\n"
     ]
    }
   ],
   "source": [
    "# checking for the description embeddings\n",
    "print(\"Description\\n\")\n",
    "accuracyDscp_dt, precisionDscp_dt, recallDscp_dt, confusionMatrixDscp_dt = decisionTreeClassifierModel(description_train, description_test)"
   ]
  },
  {
   "cell_type": "code",
   "execution_count": 16,
   "id": "a620d982",
   "metadata": {},
   "outputs": [
    {
     "name": "stdout",
     "output_type": "stream",
     "text": [
      "Text(title + description)\n",
      "\n",
      "Accuracy = 0.55\n",
      "Precision = 0.627083\n",
      "Recall = 0.55\n",
      "F1_score = 0.555769\n",
      "\n",
      "CONFUSION MATRIX\n",
      "\n",
      "[[4 1 2 0]\n",
      " [0 3 2 0]\n",
      " [1 1 3 0]\n",
      " [1 0 1 1]]\n"
     ]
    }
   ],
   "source": [
    "# checking for the text embeddings\n",
    "print(\"Text(title + description)\\n\")\n",
    "accuracyTxt_dt, precisionTxt, recallTxt_dt, confusionMatrixTxt_dt = decisionTreeClassifierModel(text_train, text_test)"
   ]
  },
  {
   "cell_type": "markdown",
   "id": "e0ff51d7",
   "metadata": {},
   "source": [
    "#### Augmented dataset "
   ]
  },
  {
   "cell_type": "code",
   "execution_count": 17,
   "id": "8e83d15e",
   "metadata": {},
   "outputs": [
    {
     "name": "stdout",
     "output_type": "stream",
     "text": [
      "Augmented Text(title + description)\n",
      "\n",
      "Accuracy = 0.806452\n",
      "Precision = 0.903226\n",
      "Recall = 0.806452\n",
      "F1_score = 0.821114\n",
      "\n",
      "CONFUSION MATRIX\n",
      "\n",
      "[[ 4  3  0  0]\n",
      " [ 0  6  0  0]\n",
      " [ 0  1  5  0]\n",
      " [ 0  2  0 10]]\n"
     ]
    }
   ],
   "source": [
    "print(\"Augmented Text(title + description)\\n\")\n",
    "accuracyaug_dt, precisionaug_dt, recallaug_dt, confusionMatrixaug_dt = decisionTreeClassifierModel(aug_train, aug_test)"
   ]
  },
  {
   "cell_type": "markdown",
   "id": "f1482560",
   "metadata": {},
   "source": [
    "### Random Forest Classifier"
   ]
  },
  {
   "cell_type": "code",
   "execution_count": 18,
   "id": "991cf10f",
   "metadata": {},
   "outputs": [],
   "source": [
    "def rfClassifierModel(train, test):\n",
    "    \"\"\"\n",
    "    This function builds the random forest classifier model and returns the evaluation scores.\n",
    "    \"\"\"\n",
    "    # Create initial random forest Model\n",
    "    model = RandomForestClassifier(featuresCol = 'features', labelCol = 'label')\n",
    "    \n",
    "    # Fit the training set\n",
    "    rf = model.fit(train)\n",
    "    \n",
    "    # Transform the test set to get the predictions\n",
    "    prediction = rf.transform(test)\n",
    "    \n",
    "    return metricsEvaluation(prediction)"
   ]
  },
  {
   "cell_type": "markdown",
   "id": "d7123cdf",
   "metadata": {},
   "source": [
    "#### Non-augmented Dataset "
   ]
  },
  {
   "cell_type": "code",
   "execution_count": 19,
   "id": "c2d881e2",
   "metadata": {
    "scrolled": false
   },
   "outputs": [
    {
     "name": "stdout",
     "output_type": "stream",
     "text": [
      "Title\n",
      "\n",
      "Accuracy = 0.35\n",
      "Precision = 0.1225\n",
      "Recall = 0.35\n",
      "F1_score = 0.181481\n",
      "\n",
      "CONFUSION MATRIX\n",
      "\n",
      "[[7 0 0 0]\n",
      " [5 0 0 0]\n",
      " [5 0 0 0]\n",
      " [3 0 0 0]]\n"
     ]
    }
   ],
   "source": [
    "# checking for the title embeddings\n",
    "print(\"Title\\n\")\n",
    "accuracyTtl_rf, precisionTtl_rf, recallTtl_rf, confusionMatrixTtl_dt = rfClassifierModel(title_train, title_test)"
   ]
  },
  {
   "cell_type": "code",
   "execution_count": 20,
   "id": "32b798ce",
   "metadata": {},
   "outputs": [
    {
     "name": "stdout",
     "output_type": "stream",
     "text": [
      "Description\n",
      "\n",
      "Accuracy = 0.35\n",
      "Precision = 0.458333\n",
      "Recall = 0.35\n",
      "F1_score = 0.342262\n",
      "\n",
      "CONFUSION MATRIX\n",
      "\n",
      "[[4 1 2 0]\n",
      " [4 1 0 0]\n",
      " [4 0 1 0]\n",
      " [2 0 0 1]]\n"
     ]
    }
   ],
   "source": [
    "# checking for the description embeddings\n",
    "print(\"Description\\n\")\n",
    "accuracyDscp_rf, precisionDscp_rf, recallDscp_rf, confusionMatrixDscp_dt = rfClassifierModel(description_train, text_test)"
   ]
  },
  {
   "cell_type": "code",
   "execution_count": 21,
   "id": "25877fd4",
   "metadata": {},
   "outputs": [
    {
     "name": "stdout",
     "output_type": "stream",
     "text": [
      "Text(title + description)\n",
      "\n",
      "Accuracy = 0.4\n",
      "Precision = 0.485417\n",
      "Recall = 0.4\n",
      "F1_score = 0.393063\n",
      "\n",
      "CONFUSION MATRIX\n",
      "\n",
      "[[3 3 1 0]\n",
      " [2 3 0 0]\n",
      " [3 1 1 0]\n",
      " [1 1 0 1]]\n"
     ]
    }
   ],
   "source": [
    "# checking for the text embeddings\n",
    "print(\"Text(title + description)\\n\")\n",
    "accuracyTxt_rf, precisionTxt_rf, recallTxt_rf, confusionMatrixTxt_rf = rfClassifierModel(text_train, text_test)"
   ]
  },
  {
   "cell_type": "markdown",
   "id": "ef8686fe",
   "metadata": {},
   "source": [
    "#### Augmented dataset "
   ]
  },
  {
   "cell_type": "code",
   "execution_count": 22,
   "id": "aec9d98b",
   "metadata": {},
   "outputs": [
    {
     "name": "stdout",
     "output_type": "stream",
     "text": [
      "Augmented Text(title + description)\n",
      "\n",
      "Accuracy = 0.774194\n",
      "Precision = 0.80783\n",
      "Recall = 0.774194\n",
      "F1_score = 0.772097\n",
      "\n",
      "CONFUSION MATRIX\n",
      "\n",
      "[[ 5  0  1  1]\n",
      " [ 2  3  0  1]\n",
      " [ 1  0  5  0]\n",
      " [ 1  0  0 11]]\n"
     ]
    }
   ],
   "source": [
    "print(\"Augmented Text(title + description)\\n\")\n",
    "accuracyaug_rf, precisionaug_rf, recallaug_rf, confusionMatrixaug_rf = rfClassifierModel(aug_train, aug_test)"
   ]
  },
  {
   "cell_type": "markdown",
   "id": "65fd822a",
   "metadata": {},
   "source": [
    "###  Logistic Regression Classifier"
   ]
  },
  {
   "cell_type": "code",
   "execution_count": 15,
   "id": "0a226441",
   "metadata": {},
   "outputs": [],
   "source": [
    "def lrClassifierModel(train, test):\n",
    "    \"\"\"\n",
    "    This function builds the gradient boost classifier model and returns the evaluation scores.\n",
    "    \"\"\"\n",
    "    \n",
    "    # Create logistic regression Model\n",
    "    model = LogisticRegression(featuresCol = 'features', labelCol = 'label')\n",
    "    \n",
    "    # Fit the model on the train set\n",
    "    lr = model.fit(train)\n",
    "    \n",
    "    # Transform the test set to get the predictions\n",
    "    prediction = lr.transform(test)\n",
    "    \n",
    "    return metricsEvaluation(prediction)\n"
   ]
  },
  {
   "cell_type": "markdown",
   "id": "2eb3d772",
   "metadata": {},
   "source": [
    "#### Non-augmented Dataset "
   ]
  },
  {
   "cell_type": "code",
   "execution_count": 24,
   "id": "bc05ad7d",
   "metadata": {},
   "outputs": [
    {
     "name": "stdout",
     "output_type": "stream",
     "text": [
      "Title\n",
      "\n",
      "Accuracy = 0.7\n",
      "Precision = 0.711667\n",
      "Recall = 0.7\n",
      "F1_score = 0.683235\n",
      "\n",
      "CONFUSION MATRIX\n",
      "\n",
      "[[7 0 0 0]\n",
      " [1 2 2 0]\n",
      " [1 1 3 0]\n",
      " [1 0 0 2]]\n"
     ]
    }
   ],
   "source": [
    "#checking for the title embeddings\n",
    "print(\"Title\\n\")\n",
    "accuracyTtl_lr, precisionTtl_lr, recallTtl_lr, confusionMatrixTtl_lr = lrClassifierModel(title_train, title_test)\n"
   ]
  },
  {
   "cell_type": "code",
   "execution_count": 25,
   "id": "dc861481",
   "metadata": {},
   "outputs": [
    {
     "name": "stdout",
     "output_type": "stream",
     "text": [
      "Description\n",
      "\n",
      "Accuracy = 0.5\n",
      "Precision = 0.472917\n",
      "Recall = 0.5\n",
      "F1_score = 0.471111\n",
      "\n",
      "CONFUSION MATRIX\n",
      "\n",
      "[[2 2 2 1]\n",
      " [0 5 0 0]\n",
      " [2 1 2 0]\n",
      " [2 0 0 1]]\n"
     ]
    }
   ],
   "source": [
    "\n",
    "#checking for the description embeddings\n",
    "print(\"Description\\n\")\n",
    "accuracyDscp_lr, precisionDscp_lr, recallDscp_lr, confusionMatrixDscp_lr = lrClassifierModel(description_train, description_test)\n"
   ]
  },
  {
   "cell_type": "code",
   "execution_count": 26,
   "id": "a1e30fbe",
   "metadata": {},
   "outputs": [
    {
     "name": "stdout",
     "output_type": "stream",
     "text": [
      "Text(title + description)\n",
      "\n",
      "Accuracy = 0.55\n",
      "Precision = 0.629167\n",
      "Recall = 0.55\n",
      "F1_score = 0.499837\n",
      "\n",
      "CONFUSION MATRIX\n",
      "\n",
      "[[1 5 1 0]\n",
      " [0 5 0 0]\n",
      " [0 1 4 0]\n",
      " [1 1 0 1]]\n"
     ]
    }
   ],
   "source": [
    "\n",
    "#checking for the text embeddings\n",
    "print(\"Text(title + description)\\n\")\n",
    "accuracyTxt_lr, precisionTxt_lr, recallTxt_lr, confusionMatrixTxt_lr = lrClassifierModel(text_train, text_test)"
   ]
  },
  {
   "cell_type": "markdown",
   "id": "995814d9",
   "metadata": {},
   "source": [
    "#### Augmented dataset "
   ]
  },
  {
   "cell_type": "code",
   "execution_count": 27,
   "id": "dc68ab4b",
   "metadata": {},
   "outputs": [
    {
     "name": "stdout",
     "output_type": "stream",
     "text": [
      "Augmented Text(title + description)\n",
      "\n",
      "Accuracy = 0.870968\n",
      "Precision = 0.874194\n",
      "Recall = 0.870968\n",
      "F1_score = 0.864823\n",
      "\n",
      "CONFUSION MATRIX\n",
      "\n",
      "[[ 4  1  2  0]\n",
      " [ 1  5  0  0]\n",
      " [ 0  0  6  0]\n",
      " [ 0  0  0 12]]\n"
     ]
    }
   ],
   "source": [
    "print(\"Augmented Text(title + description)\\n\")\n",
    "accuracyaug_lr, precisionaug_lr, recallaug_lr, confusionMatrixaug_lr = lrClassifierModel(aug_train, aug_test)"
   ]
  },
  {
   "cell_type": "markdown",
   "id": "1eea58a7",
   "metadata": {},
   "source": [
    "### Metrics comparison "
   ]
  },
  {
   "cell_type": "code",
   "execution_count": 76,
   "id": "f0034c25",
   "metadata": {},
   "outputs": [],
   "source": [
    "def plotBarGraph(y1, y2, y3, y4, metricName):\n",
    "    \"\"\"\n",
    "    Plot a bar graph of the given metric scores\n",
    "    \"\"\"\n",
    "    figure(figsize=(6, 4), dpi=100)\n",
    "\n",
    "    models = [\"decision tree\", \"random forest\", \"logistic regression\"]\n",
    "\n",
    "    # create data\n",
    "    x = np.arange(3)\n",
    "\n",
    "    width = 0.2\n",
    "\n",
    "    # plot data in grouped manner of bar type\n",
    "    plt.bar(x-0.2, y1, width)\n",
    "    plt.bar(x, y2, width)\n",
    "    plt.bar(x+0.2, y3, width)\n",
    "    plt.bar(x+0.4, y4, width)\n",
    "\n",
    "    plt.xticks(x, models)\n",
    "    plt.xlabel(\"Models\")\n",
    "    plt.ylabel(metricName)\n",
    "    plt.legend([\"title\", \"description\", \"text\", \"text augmented data\"])\n",
    "    plt.show()"
   ]
  },
  {
   "cell_type": "code",
   "execution_count": 77,
   "id": "0d61a345",
   "metadata": {},
   "outputs": [
    {
     "data": {
      "image/png": "[encoded data removed]",
      "text/plain": [
       "<Figure size 600x400 with 1 Axes>"
      ]
     },
     "metadata": {
      "needs_background": "light"
     },
     "output_type": "display_data"
    }
   ],
   "source": [
    "# accuracy\n",
    "y1 = [accuracyTtl_dt, accuracyTtl_rf, accuracyTtl_lr]\n",
    "y2 = [accuracyDscp_dt, accuracyDscp_rf, accuracyDscp_lr]\n",
    "y3 = [accuracyTxt_dt, accuracyTxt_rf, accuracyTxt_lr]\n",
    "y4 = [accuracyaug_dt, accuracyaug_rf, accuracyaug_lr]\n",
    "\n",
    "plotBarGraph(y1, y2, y3, y4, \"Accuracy\")"
   ]
  },
  {
   "cell_type": "code",
   "execution_count": 79,
   "id": "2c04398c",
   "metadata": {},
   "outputs": [
    {
     "data": {
      "image/png": "[encoded data removed]",
      "text/plain": [
       "<Figure size 600x400 with 1 Axes>"
      ]
     },
     "metadata": {
      "needs_background": "light"
     },
     "output_type": "display_data"
    }
   ],
   "source": [
    "# Precision\n",
    "y1 = [precisionTtl_dt, precisionTtl_rf, precisionTtl_lr]\n",
    "y2 = [precisionDscp_dt, precisionDscp_rf, precisionDscp_lr]\n",
    "y3 = [precisionTxt, precisionTxt_rf, precisionTxt_lr]\n",
    "y4 = [precisionaug_dt, precisionaug_rf, precisionaug_lr]\n",
    "\n",
    "plotBarGraph(y1, y2, y3, y4, \"Precision\")"
   ]
  },
  {
   "cell_type": "code",
   "execution_count": 80,
   "id": "55ef91e3",
   "metadata": {},
   "outputs": [
    {
     "data": {
      "image/png": "[encoded data removed]",
      "text/plain": [
       "<Figure size 600x400 with 1 Axes>"
      ]
     },
     "metadata": {
      "needs_background": "light"
     },
     "output_type": "display_data"
    }
   ],
   "source": [
    "# Precision\n",
    "y1 = [recallTtl_dt, recallTtl_rf, recallTtl_lr]\n",
    "y2 = [recallDscp_dt, recallDscp_rf, recallDscp_lr]\n",
    "y3 = [recallTxt_dt, recallTxt_rf, recallTxt_lr]\n",
    "y4 = [recallaug_dt, recallaug_rf, recallaug_lr]\n",
    "\n",
    "plotBarGraph(y1, y2, y3, y4, \"Recall\")"
   ]
  },
  {
   "cell_type": "code",
   "execution_count": 81,
   "id": "6403a968",
   "metadata": {},
   "outputs": [
    {
     "data": {
      "image/png": "[encoded data removed]",
      "text/plain": [
       "<Figure size 600x400 with 1 Axes>"
      ]
     },
     "metadata": {
      "needs_background": "light"
     },
     "output_type": "display_data"
    }
   ],
   "source": [
    "# F1-score\n",
    "y1 = [0.506, 0.181, 0.683]\n",
    "y2 = [0.209, 0.342, 0.471]\n",
    "y3 = [0.555, 0.393, 0.499]\n",
    "y4 = [0.821, 0.772, 0.864]\n",
    "\n",
    "plotBarGraph(y1, y2, y3, y4, \"F1-score\")"
   ]
  },
  {
   "cell_type": "markdown",
   "id": "7db2d3cd",
   "metadata": {},
   "source": [
    "## HyperParameter tuning using Cross validation"
   ]
  },
  {
   "cell_type": "markdown",
   "id": "73fe5621",
   "metadata": {},
   "source": [
    "From the above model evaluations, the logistic regression classifier achieves the maximum accuracy and f1-score. Hence, this model will be further tuned to verify if an improvement is possible. \n",
    "\n",
    "Also, it can be observed that all the models showed a significant improvement in performance when trained with the augmented dataset. Hence, the augmented dataset will be used."
   ]
  },
  {
   "cell_type": "code",
   "execution_count": 32,
   "id": "4c7c776e",
   "metadata": {},
   "outputs": [],
   "source": [
    "def crossValidation(train, test):\n",
    "    \"\"\"\n",
    "    This function builds the cross validation model which choses the best parameter among the given grid\n",
    "    and returns the metrics for a given test set.\n",
    "    \"\"\"\n",
    "    # Build the evaluator for the cross validator to focus on. For this use case, the accuracy is considered\n",
    "    evaluator = MulticlassClassificationEvaluator(metricName='accuracy')\n",
    "    \n",
    "    # Create initial logistic regression Model\n",
    "    lr = LogisticRegression(featuresCol = 'features', labelCol = 'label')\n",
    "    \n",
    "    # Build the param grid.\n",
    "    paramGrid = (ParamGridBuilder()\n",
    "                 .addGrid(lr.regParam, [0.1, 0.3, 0.5]) # regularization parameter\n",
    "                 .addGrid(lr.elasticNetParam, [0.0, 0.1, 0.2]) # Elastic Net Parameter (Ridge = 0)\n",
    "                 .addGrid(lr.maxIter, [10, 20, 50]) # Number of iterations\n",
    "                 .build())\n",
    "    \n",
    "    # Building the cross validator\n",
    "    crossval = CrossValidator(estimator=lr,\n",
    "                              estimatorParamMaps=paramGrid,\n",
    "                              evaluator=evaluator,\n",
    "                              numFolds=4, \n",
    "                              parallelism=2)\n",
    "    \n",
    "    # Run cross-validation, and choose the best set of parameters.\n",
    "    cvModel = crossval.fit(train)\n",
    "\n",
    "    # Make predictions on test documents. cvModel uses the best model found.\n",
    "    prediction = cvModel.transform(test)\n",
    "    \n",
    "    return metricsEvaluation(prediction), cvModel"
   ]
  },
  {
   "cell_type": "markdown",
   "id": "ae0a214d",
   "metadata": {},
   "source": [
    "#### Original LR model metrics\n",
    "Accuracy = 0.870968\n",
    "Precision = 0.874194\n",
    "Recall = 0.870968\n",
    "F1_score = 0.864823"
   ]
  },
  {
   "cell_type": "code",
   "execution_count": 36,
   "id": "a88920fb",
   "metadata": {},
   "outputs": [
    {
     "name": "stdout",
     "output_type": "stream",
     "text": [
      "Accuracy = 0.83871\n",
      "Precision = 0.890323\n",
      "Recall = 0.83871\n",
      "F1_score = 0.829032\n",
      "\n",
      "CONFUSION MATRIX\n",
      "\n",
      "[[ 3  1  3  0]\n",
      " [ 0  5  1  0]\n",
      " [ 0  0  6  0]\n",
      " [ 0  0  0 12]]\n"
     ]
    }
   ],
   "source": [
    "accuracyaug_cv, precisionaug_cv, recallaug_cv, confusionMatrixaug_cv, cvModel = crossValidation(aug_train, aug_test)"
   ]
  },
  {
   "cell_type": "markdown",
   "id": "66aa1340",
   "metadata": {},
   "source": [
    "## Generate Predictions (seniority level) for the actual test set "
   ]
  },
  {
   "cell_type": "code",
   "execution_count": 16,
   "id": "f60df115",
   "metadata": {},
   "outputs": [
    {
     "name": "stdout",
     "output_type": "stream",
     "text": [
      "spellcheck_dl download started this may take some time.\n",
      "Approximate size to download 111.4 MB\n",
      "[OK!]\n",
      "lemma_antbnc download started this may take some time.\n",
      "Approximate size to download 907.6 KB\n",
      "[OK!]\n"
     ]
    }
   ],
   "source": [
    "# generate embeddings\n",
    "document_assembler = DocumentAssembler() \\\n",
    "        .setInputCol(\"text\") \\\n",
    "        .setOutputCol(\"document\")\n",
    "\n",
    "# convert document to array of tokens\n",
    "tokenizer = Tokenizer() \\\n",
    "      .setInputCols([\"document\"]) \\\n",
    "      .setOutputCol(\"token\")\n",
    "\n",
    "#check spellings\n",
    "spell_model = ContextSpellCheckerModel\\\n",
    "        .pretrained('spellcheck_dl')\\\n",
    "        .setInputCols(\"token\")\\\n",
    "        .setOutputCol(\"corrected\")\n",
    "\n",
    "# clean tokens \n",
    "normalizer = Normalizer() \\\n",
    "        .setInputCols([\"corrected\"]) \\\n",
    "        .setOutputCol(\"normalized\")\n",
    "\n",
    "# remove stopwords\n",
    "stopwords_cleaner = StopWordsCleaner()\\\n",
    "          .setInputCols(\"normalized\")\\\n",
    "          .setOutputCol(\"cleanTokens\")\\\n",
    "          .setCaseSensitive(False)\n",
    "\n",
    "# lemmas tokens to bring it to root form\n",
    "lemmatizer = LemmatizerModel.pretrained() \\\n",
    "        .setInputCols([\"token\"]) \\\n",
    "        .setOutputCol(\"lemma\")\n",
    "\n",
    "# Convert custom document structure to array of tokens.\n",
    "finisher = Finisher() \\\n",
    "        .setInputCols([\"lemma\"]) \\\n",
    "        .setOutputCols([\"token_features\"]) \\\n",
    "        .setOutputAsArray(True) \\\n",
    "        .setCleanAnnotations(False)\n",
    "\n",
    "# To generate Term Frequency\n",
    "hashingTF = HashingTF(inputCol=\"token_features\", outputCol=\"rawFeatures\", numFeatures=1000)\n",
    "\n",
    "# To generate Inverse Document Frequency\n",
    "idf = IDF(inputCol=\"rawFeatures\", outputCol=\"features\", minDocFreq=5)\n",
    "\n",
    "# define the nlp pipeline\n",
    "nlp_pipeline = Pipeline(\n",
    "        stages=[document_assembler, \n",
    "                tokenizer,\n",
    "                spell_model,\n",
    "                normalizer,\n",
    "                stopwords_cleaner, \n",
    "                lemmatizer, \n",
    "                finisher,\n",
    "                hashingTF,\n",
    "                idf])\n",
    "# fit the pipeline\n",
    "pipeline_model = nlp_pipeline.fit(sparkTestDf)\n",
    "    \n",
    "# generate embeddings\n",
    "test_embeddings =  pipeline_model.transform(sparkTestDf)"
   ]
  },
  {
   "cell_type": "code",
   "execution_count": 17,
   "id": "6d7f8307",
   "metadata": {},
   "outputs": [],
   "source": [
    "# Create logistic regression Model since that is the best model achieved so far\n",
    "model = LogisticRegression(featuresCol = 'features', labelCol = 'label')\n",
    "    \n",
    "# Fit the model on the augmented dataset\n",
    "lr = model.fit(augEmbeddings)\n",
    "\n",
    "#generate predictions\n",
    "classification = lr.transform(test_embeddings)"
   ]
  },
  {
   "cell_type": "code",
   "execution_count": 18,
   "id": "15169631",
   "metadata": {},
   "outputs": [
    {
     "data": {
      "text/html": [
       "<div>\n",
       "<style scoped>\n",
       "    .dataframe tbody tr th:only-of-type {\n",
       "        vertical-align: middle;\n",
       "    }\n",
       "\n",
       "    .dataframe tbody tr th {\n",
       "        vertical-align: top;\n",
       "    }\n",
       "\n",
       "    .dataframe thead th {\n",
       "        text-align: right;\n",
       "    }\n",
       "</style>\n",
       "<table border=\"1\" class=\"dataframe\">\n",
       "  <thead>\n",
       "    <tr style=\"text-align: right;\">\n",
       "      <th></th>\n",
       "      <th>title</th>\n",
       "      <th>description</th>\n",
       "      <th>prediction</th>\n",
       "      <th>level</th>\n",
       "    </tr>\n",
       "  </thead>\n",
       "  <tbody>\n",
       "    <tr>\n",
       "      <th>0</th>\n",
       "      <td>customer service netherlands in berlin</td>\n",
       "      <td>outfitter is europe biggest personal shopping ...</td>\n",
       "      <td>2.0</td>\n",
       "      <td>Entry-level</td>\n",
       "    </tr>\n",
       "    <tr>\n",
       "      <th>1</th>\n",
       "      <td>devo ps engineer</td>\n",
       "      <td>outfitter is europe biggest personal shopping ...</td>\n",
       "      <td>0.0</td>\n",
       "      <td>Senior-level</td>\n",
       "    </tr>\n",
       "    <tr>\n",
       "      <th>2</th>\n",
       "      <td>head of product management it</td>\n",
       "      <td>outfitter is europe biggest personal shopping ...</td>\n",
       "      <td>0.0</td>\n",
       "      <td>Senior-level</td>\n",
       "    </tr>\n",
       "    <tr>\n",
       "      <th>3</th>\n",
       "      <td>help desk support</td>\n",
       "      <td>outfitter is europe biggest personal shopping ...</td>\n",
       "      <td>0.0</td>\n",
       "      <td>Senior-level</td>\n",
       "    </tr>\n",
       "    <tr>\n",
       "      <th>4</th>\n",
       "      <td>intern help desk</td>\n",
       "      <td>outfitter is europe biggest personal shopping ...</td>\n",
       "      <td>3.0</td>\n",
       "      <td>Internship</td>\n",
       "    </tr>\n",
       "  </tbody>\n",
       "</table>\n",
       "</div>"
      ],
      "text/plain": [
       "                                     title  \\\n",
       "0  customer service netherlands in berlin    \n",
       "1                        devo ps engineer    \n",
       "2           head of product management it    \n",
       "3                       help desk support    \n",
       "4                        intern help desk    \n",
       "\n",
       "                                         description  prediction         level  \n",
       "0  outfitter is europe biggest personal shopping ...         2.0   Entry-level  \n",
       "1  outfitter is europe biggest personal shopping ...         0.0  Senior-level  \n",
       "2  outfitter is europe biggest personal shopping ...         0.0  Senior-level  \n",
       "3  outfitter is europe biggest personal shopping ...         0.0  Senior-level  \n",
       "4  outfitter is europe biggest personal shopping ...         3.0    Internship  "
      ]
     },
     "metadata": {},
     "output_type": "display_data"
    }
   ],
   "source": [
    "# mapping the predictions to the levels\n",
    "map_levels = {0.0: \"Senior-level\", 1.0: \"Mid-level\", 2.0: \"Entry-level\", 3.0: \"Internship\"}\n",
    "\n",
    "classification_df = classification.select(\"title\", \"description\", \"prediction\").toPandas()\n",
    "\n",
    "classification_df[\"level\"] = classification_df[\"prediction\"].apply(lambda x: map_levels[x])\n",
    "\n",
    "#display the head.\n",
    "display(classification_df.head())\n",
    "\n",
    "#save the datframe as csv file\n",
    "classification_df.to_csv(\"../Data/Prediction_updated.csv\")"
   ]
  },
  {
   "cell_type": "code",
   "execution_count": null,
   "id": "db6b0ad8",
   "metadata": {},
   "outputs": [],
   "source": [
    "#spark.stop()"
   ]
  }
 ],
 "metadata": {
  "kernelspec": {
   "display_name": "Python 3 (ipykernel)",
   "language": "python",
   "name": "python3"
  },
  "language_info": {
   "codemirror_mode": {
    "name": "ipython",
    "version": 3
   },
   "file_extension": ".py",
   "mimetype": "text/x-python",
   "name": "python",
   "nbconvert_exporter": "python",
   "pygments_lexer": "ipython3",
   "version": "3.8.10"
  }
 },
 "nbformat": 4,
 "nbformat_minor": 5
}
