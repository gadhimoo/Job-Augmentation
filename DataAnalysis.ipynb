{
 "cells": [
  {
   "cell_type": "markdown",
   "id": "a8ea90e5",
   "metadata": {},
   "source": [
    "# Exploratory Data Analysis"
   ]
  },
  {
   "cell_type": "markdown",
   "id": "4d8af49e",
   "metadata": {},
   "source": [
    "In this notebook, the first exploratory data analysis is done for the given data. "
   ]
  },
  {
   "cell_type": "code",
   "execution_count": 11,
   "id": "e82f9fb1",
   "metadata": {},
   "outputs": [],
   "source": [
    "# Import packages\n",
    "import string\n",
    "from random import randint\n",
    "\n",
    "import pandas as pd\n",
    "import numpy as np\n",
    "\n",
    "import matplotlib.pyplot as plt\n",
    "import seaborn as sns\n",
    "\n",
    "from nltk import ngrams\n",
    "from nltk.tokenize import word_tokenize\n",
    "from nltk.corpus import stopwords\n",
    "from nltk.tokenize import RegexpTokenizer\n",
    "\n",
    "stop = stopwords.words(\"english\")"
   ]
  },
  {
   "cell_type": "code",
   "execution_count": 2,
   "id": "ce3afdbf",
   "metadata": {},
   "outputs": [],
   "source": [
    "# Read data\n",
    "df = pd.read_json('../Data/data.json')"
   ]
  },
  {
   "cell_type": "markdown",
   "id": "8c6d869c",
   "metadata": {},
   "source": [
    "## Data exploration "
   ]
  },
  {
   "cell_type": "code",
   "execution_count": 3,
   "id": "10d0586f",
   "metadata": {},
   "outputs": [
    {
     "data": {
      "text/html": [
       "<div>\n",
       "<style scoped>\n",
       "    .dataframe tbody tr th:only-of-type {\n",
       "        vertical-align: middle;\n",
       "    }\n",
       "\n",
       "    .dataframe tbody tr th {\n",
       "        vertical-align: top;\n",
       "    }\n",
       "\n",
       "    .dataframe thead th {\n",
       "        text-align: right;\n",
       "    }\n",
       "</style>\n",
       "<table border=\"1\" class=\"dataframe\">\n",
       "  <thead>\n",
       "    <tr style=\"text-align: right;\">\n",
       "      <th></th>\n",
       "      <th>level</th>\n",
       "      <th>description</th>\n",
       "      <th>title</th>\n",
       "    </tr>\n",
       "  </thead>\n",
       "  <tbody>\n",
       "    <tr>\n",
       "      <th>0</th>\n",
       "      <td>Entry Level</td>\n",
       "      <td>OUTFITTERY is Europe’s biggest Personal Shoppi...</td>\n",
       "      <td>Frontend Engineer (m/f)</td>\n",
       "    </tr>\n",
       "    <tr>\n",
       "      <th>1</th>\n",
       "      <td>Senior Level</td>\n",
       "      <td>OUTFITTERY is Europe’s biggest Personal Shoppi...</td>\n",
       "      <td>Senior Product Manager (m/f)</td>\n",
       "    </tr>\n",
       "    <tr>\n",
       "      <th>2</th>\n",
       "      <td>Entry Level</td>\n",
       "      <td>JOB DESCRIPTION\\nPamet is looking for Android ...</td>\n",
       "      <td>Android Developer</td>\n",
       "    </tr>\n",
       "    <tr>\n",
       "      <th>3</th>\n",
       "      <td>Senior Level</td>\n",
       "      <td>We are looking for a Development Lead with 5+ ...</td>\n",
       "      <td>Development Lead</td>\n",
       "    </tr>\n",
       "    <tr>\n",
       "      <th>4</th>\n",
       "      <td>Entry Level</td>\n",
       "      <td>JOB DESCRIPTION\\nPamet is looking for a IBM We...</td>\n",
       "      <td>IBM WebSphere Portal Developer</td>\n",
       "    </tr>\n",
       "  </tbody>\n",
       "</table>\n",
       "</div>"
      ],
      "text/plain": [
       "          level                                        description  \\\n",
       "0   Entry Level  OUTFITTERY is Europe’s biggest Personal Shoppi...   \n",
       "1  Senior Level  OUTFITTERY is Europe’s biggest Personal Shoppi...   \n",
       "2   Entry Level  JOB DESCRIPTION\\nPamet is looking for Android ...   \n",
       "3  Senior Level  We are looking for a Development Lead with 5+ ...   \n",
       "4   Entry Level  JOB DESCRIPTION\\nPamet is looking for a IBM We...   \n",
       "\n",
       "                            title  \n",
       "0         Frontend Engineer (m/f)  \n",
       "1    Senior Product Manager (m/f)  \n",
       "2               Android Developer  \n",
       "3                Development Lead  \n",
       "4  IBM WebSphere Portal Developer  "
      ]
     },
     "execution_count": 3,
     "metadata": {},
     "output_type": "execute_result"
    }
   ],
   "source": [
    "df.head()"
   ]
  },
  {
   "cell_type": "code",
   "execution_count": 4,
   "id": "c61d18cc",
   "metadata": {},
   "outputs": [
    {
     "name": "stdout",
     "output_type": "stream",
     "text": [
      "Missing values? True\n",
      "\n",
      "level          75\n",
      "description     0\n",
      "title           0\n",
      "dtype: int64\n"
     ]
    }
   ],
   "source": [
    "# Check null values\n",
    "print(f\"Missing values? {df.isnull().values.any()}\\n\")\n",
    "\n",
    "# Count null values\n",
    "# Since we have both the test set(without the levels) and the train set here. \n",
    "print(df.isnull().sum())"
   ]
  },
  {
   "cell_type": "code",
   "execution_count": 5,
   "id": "8f993471",
   "metadata": {},
   "outputs": [
    {
     "data": {
      "text/plain": [
       "216"
      ]
     },
     "execution_count": 5,
     "metadata": {},
     "output_type": "execute_result"
    }
   ],
   "source": [
    "# Total entries\n",
    "df.shape[0]"
   ]
  },
  {
   "cell_type": "code",
   "execution_count": 6,
   "id": "f9dc4386",
   "metadata": {},
   "outputs": [
    {
     "name": "stdout",
     "output_type": "stream",
     "text": [
      "Test set size: 75\n",
      "Train set size: 141\n"
     ]
    }
   ],
   "source": [
    "# Split dataset without labels (levels) as test set and the remaining set as training set\n",
    "test_df = df[df['level'].isnull()]\n",
    "\n",
    "# Reset index\n",
    "test_df.reset_index(inplace=True)\n",
    "\n",
    "# Drop test set from entire dataset\n",
    "df.dropna(inplace=True)\n",
    "\n",
    "print(f\"Test set size: {test_df.shape[0]}\")\n",
    "print(f\"Train set size: {df.shape[0]}\")"
   ]
  },
  {
   "cell_type": "code",
   "execution_count": 31,
   "id": "a3061c16",
   "metadata": {},
   "outputs": [
    {
     "name": "stdout",
     "output_type": "stream",
     "text": [
      "\n",
      "########## Sample 0 ##########\n",
      "\n",
      "- LEVEL:\n",
      "Senior Level\n",
      "\n",
      "- TITLE:\n",
      "Senior Full-Stack Developer (remote)\n",
      "\n",
      "- DESCRIPTION:\n",
      "DescriptionInVision is the world’s leading design collaboration platform.We enable companies of all sizes to discover the power of design-driven product development. That’s why more than one million designers, product managers, marketers and other stakeholders at so many of the world's most loved startups, agencies, & corporations use InVision every day, including Uber, Evernote, Twitter, Adobe, Salesforce and many more.We are looking for well rounded Senior Full-Stack Developer to join the InVision engineering team. The ideal candidate will have a **deep** understanding of software architecture and a demonstrated skill at coding effectively across a multitude of languages. The candidate will be responsible for enhancing and extending our service offering while at the same time maintaining performance and robustness.The candidate should have an exacting eye for detail and a passion for solving complex problems.\n",
      "RequirementsDuties and Responsibilities Enhance and extend our SaaS architecture Design and develop new services and capabilities Work with other developers and product designers to brainstorm and test new ideas Drive to continuously maintain high product quality and improve the process General Qualifications Strong problem solving and decision-making ability Strong software engineering fundamentals (unit testing, object-oriented design, functional programming, data structures) Experience designing and deploying applications with Javascript and NodeJS Experience with RabbitMQ and Redis Familiarity with UML, especially Sequence Diagrams and Activity Diagrams Preference for working in rapid development cycles (2-4 weeks) Familiarity with common tools like Git, Jira, Confluence, Jenkins/CI MongoDB experience Experience working with React Experience with Continuous Integration/Continuous Delivery environments Obsessively thorough with an eye for detail Excellent oral and written communications skills Experience implementing complex DOM operations while maintaining 60fps Experience with animation in the browser Knowledge of WebGL and other rendering contexts \n",
      "Benefits Highly competitive salary Stock options Premium health coverage Macbook Air Membership at health club of your choice Unlimited books from Amazon Unlimited Starbucks card Half-day Fridays!\n",
      "\n",
      "########## Sample 1 ##########\n",
      "\n",
      "- LEVEL:\n",
      "Entry Level\n",
      "\n",
      "- TITLE:\n",
      "Junior QA Automation Engineer\n",
      "\n",
      "- DESCRIPTION:\n",
      "DescriptionWith Babbel anyone can learn a language.Whether on the go, in the subway or at home on the sofa, Babbel supports those who take joy in learning outside of work or school.Since its founding in 2007, the company has grown to become the market leader in app based language learning. In total, Babbel offers 14 learning languages, from English to Indonesian.Professional courses are readily available via the Babbel website as well as on your smartphone or tablet. At Babbel, more than 300 team members from over 25 different countries work hard in order to set standards for creating a new learning experience.Changing the way that language learning is done is a great challenge, so we are looking for a QA Manager to lead our Babbel Quality Assurance department.With up to 120,000 downloads per day and more than 8,000 hours of language learning content, Babbel is the market leading online-learning app.One of the main keys of a company’s success, is its attention to the quality of the product and user experience.\n",
      "RequirementsMust haves: 2+ years experience in test automation Familiar with at least one server-side object-oriented language, preferably Ruby Familiar with common software design patterns (MVC) Knowledge of several known test automation tools (such as Selenium, Appium) Knowledge of Mobile software testing tools and Agile development methodologies Attention to detail A proactive, practical and self driven work approach Passion and knowledge of software testing, Web and iOS & Android Very nice to have: Experience with Selenium/WebDriver, Appium Familiar with common design patterns (page objects, microservices) Experience with BDD: Cucumber / Spec Flow / Gherkin language Some knowledge about JavaScript & node.js Some knowledge about modern JS frameworks (AngularJS, for example) ISTQB or equivalent certification testing Experience with JIRA, TestRail \n",
      "Benefits A lively start-up atmosphere with a great team of co-workers Cutting-edge tools & technologies Long-term prospects A vibrant international team with over 25 different nationalities Great company benefits (High-End company bike, fresh fruits & drinks etc.) Start-up mentality and attractive working environment\n",
      "\n",
      "########## Sample 2 ##########\n",
      "\n",
      "- LEVEL:\n",
      "Internship\n",
      "\n",
      "- TITLE:\n",
      "Brand Campaign Intern\n",
      "\n",
      "- DESCRIPTION:\n",
      "we are unuWe believe in cities in which all people are enabled to embrace the full potential of urban life. That is why we are committed to creating the mobility solution that fully connects people to the city. After obtaining several million USD in funding from German and Silicon Valley investors, we launched our first product, an electric scooter with portable batteries, in late summer 2014. We are a strong team of playfully inventive individuals who embrace urban life and strive for solutions that are perfect in a simple way. In 2016, we are on the lookout for like-minded people to join the team - people who make a difference.build the unu brandAt unu, you will get the chance to contribute to the exciting process of building a new brand from the very beginning. your responsibilities include, but are not limited tosupporting unu’s marketing infrastructure (Social Media accounts, reporting &amp; tracking, related brands &amp; influencers)setup and manage online campaigns enhance unu's campaign portfolio with creative ideassupport the team in daily activities and operationsorganise & manage eventsyour profileidentification with unu’s vision and culturestudying business, economics, marketing or other relevant disciplinesprioritise tasks and pay attention to detail, even when under time pressurebalance creative craziness and thorough executiongood knowledge of marketing tools &amp; platforms (FB/Instagram/ Twitter, SEM, Excel, Iconosquare or similar)eager to take responsibilities and to fully develop your potential in a fast growing companyWe like people from diverse backgrounds that have a passion to grow a brand. If you are hands-on and ready to do some great stuff to activate our brand - we will have a great time together!Please send me the following:1. CV and/or LinkedIn2. Short motivational letter3. Your notice period/ ability to startWe accept applications on a rolling basis, however a starting date tomorrow is great :)Apply for this job\n"
     ]
    }
   ],
   "source": [
    "# Look at some samples.\n",
    "for i in range(3):\n",
    "    sample = randint(0, df.shape[0])\n",
    "    print(f\"\\n########## Sample {i} ##########\")\n",
    "    print(\"\\n- LEVEL:\")\n",
    "    print(df['level'][sample])\n",
    "    print(\"\\n- TITLE:\")\n",
    "    print(df['title'][sample])\n",
    "    print(\"\\n- DESCRIPTION:\")\n",
    "    print(df['description'][sample])"
   ]
  },
  {
   "cell_type": "code",
   "execution_count": 33,
   "id": "f0e3d209",
   "metadata": {},
   "outputs": [
    {
     "name": "stdout",
     "output_type": "stream",
     "text": [
      "\n",
      "- LEVEL:\n",
      "nan\n",
      "\n",
      "- TITLE:\n",
      "Praktikant im Bereich Operations & Customer Service\n",
      "\n",
      "- DESCRIPTION:\n",
      "no\n"
     ]
    }
   ],
   "source": [
    "sample = 5\n",
    "print(\"\\n- LEVEL:\")\n",
    "print(test_df['level'][sample])\n",
    "print(\"\\n- TITLE:\")\n",
    "print(test_df['title'][sample])\n",
    "print(\"\\n- DESCRIPTION:\")\n",
    "print(test_df['description'][sample])"
   ]
  },
  {
   "cell_type": "markdown",
   "id": "de64b4c7",
   "metadata": {},
   "source": [
    "By looking at the description text, we see that there are some preprocessing steps required before ingesting the data.\n",
    "\n",
    "1. remove new lines character \"\\n\",\n",
    "2. remove all symbols \"-.,\",\n",
    "3. convert text to lowercase,\n",
    "4. remove stopwords,\n",
    "5. remove \"description\" or \"job description\" or \"Job Purpose\" or \"No description available\",\n",
    "6. handle abbreviations (e.g., \"sr.\", \"jr.\"),\n",
    "7. check language (e.g., German, English or French) and translate it if required,\n",
    "8. split combined words,\n",
    "9. check spelling,\n",
    "10. replace numbers with words (e.g., \"3 years\" into \"three years\")."
   ]
  },
  {
   "cell_type": "markdown",
   "id": "4d9ca42e",
   "metadata": {},
   "source": [
    "## Data Vizualization "
   ]
  },
  {
   "cell_type": "markdown",
   "id": "a7f5fd19",
   "metadata": {},
   "source": [
    "### Levels distribution"
   ]
  },
  {
   "cell_type": "code",
   "execution_count": 27,
   "id": "b3b98680",
   "metadata": {},
   "outputs": [
    {
     "data": {
      "image/png": "[encoded data removed]",
      "text/plain": [
       "<Figure size 504x252 with 1 Axes>"
      ]
     },
     "metadata": {
      "needs_background": "light"
     },
     "output_type": "display_data"
    }
   ],
   "source": [
    "# Plot setting\n",
    "plt.rcParams[\"figure.figsize\"] = [7.00, 3.50]\n",
    "plt.rcParams[\"figure.autolayout\"] = True\n",
    "\n",
    "# Histogram of Level\n",
    "ax = sns.countplot(x=\"level\", data=df)\n",
    "\n",
    "for p in ax.patches:\n",
    "    ax.annotate('{:.1f}'.format(p.get_height()), (p.get_x() + 0.25, p.get_height() + 0.3))\n",
    "\n",
    "plt.show()"
   ]
  },
  {
   "cell_type": "markdown",
   "id": "0c371deb",
   "metadata": {},
   "source": [
    "From the above plot, it can be inferred that the dataset is imbalanced!"
   ]
  },
  {
   "cell_type": "markdown",
   "id": "db92f60d",
   "metadata": {},
   "source": [
    "#### Most common words in description and title fields"
   ]
  },
  {
   "cell_type": "code",
   "execution_count": 29,
   "id": "ef4f91f5",
   "metadata": {
    "scrolled": false
   },
   "outputs": [
    {
     "data": {
      "text/plain": [
       "team           238\n",
       "experience     202\n",
       "work           195\n",
       "-              190\n",
       "you            156\n",
       "product        155\n",
       "we             124\n",
       "business       112\n",
       "company        108\n",
       "&               99\n",
       "new             98\n",
       "working         96\n",
       "marketing       96\n",
       "design          92\n",
       "development     91\n",
       "looking         84\n",
       "great           80\n",
       "strong          79\n",
       "job             71\n",
       "a               71\n",
       "dtype: int64"
      ]
     },
     "execution_count": 29,
     "metadata": {},
     "output_type": "execute_result"
    }
   ],
   "source": [
    "# Exclude stopwords with Python's list comprehension and pandas.DataFrame.apply.\n",
    "df['description_without_stopwords'] = df['description'].apply(\n",
    "    lambda x: ' '.join([word for word in x.split() if word not in (stop)]))\n",
    "\n",
    "# Look at the most common words from the description\n",
    "pd.Series(' '.join(df['description_without_stopwords']).lower().split()).value_counts()[: 20]"
   ]
  },
  {
   "cell_type": "code",
   "execution_count": 30,
   "id": "9d9b99b1",
   "metadata": {
    "scrolled": true
   },
   "outputs": [
    {
     "data": {
      "text/plain": [
       "-              35\n",
       "manager        29\n",
       "engineer       24\n",
       "senior         16\n",
       "developer      15\n",
       "business       15\n",
       "intern         14\n",
       "(m/f)          12\n",
       "sales          10\n",
       "manager,       10\n",
       "(f/m)           9\n",
       "product         9\n",
       "india           9\n",
       "development     9\n",
       "software        9\n",
       "marketing       7\n",
       "qa              7\n",
       "&               6\n",
       "head            6\n",
       "lead            6\n",
       "dtype: int64"
      ]
     },
     "execution_count": 30,
     "metadata": {},
     "output_type": "execute_result"
    }
   ],
   "source": [
    "df['title_without_stopwords'] = df['title'].apply(lambda x: ' '.join([word for word in x.split() if word not in (stop)]))\n",
    "\n",
    "#to look at the most common words from the title\n",
    "pd.Series(' '.join(df['title_without_stopwords']).lower().split()).value_counts()[: 20]"
   ]
  },
  {
   "cell_type": "markdown",
   "id": "09342a3d",
   "metadata": {},
   "source": [
    "From the above step, we can see that the title column has some important key words like senior, intern which could be helpful in prediction."
   ]
  }
 ],
 "metadata": {
  "kernelspec": {
   "display_name": "Python 3 (ipykernel)",
   "language": "python",
   "name": "python3"
  },
  "language_info": {
   "codemirror_mode": {
    "name": "ipython",
    "version": 3
   },
   "file_extension": ".py",
   "mimetype": "text/x-python",
   "name": "python",
   "nbconvert_exporter": "python",
   "pygments_lexer": "ipython3",
   "version": "3.8.10"
  }
 },
 "nbformat": 4,
 "nbformat_minor": 5
}
