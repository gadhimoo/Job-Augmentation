{
 "cells": [
  {
   "cell_type": "markdown",
   "id": "f57c8e5c",
   "metadata": {},
   "source": [
    "### Language Translation "
   ]
  },
  {
   "cell_type": "markdown",
   "id": "1820efa8",
   "metadata": {},
   "source": [
    "Since some other descriptions or titles are in deutsch or french, they are translated to english using the following spark pipleine. The cleaned dataframe is stored as parquet files for the modelling phase"
   ]
  },
  {
   "cell_type": "code",
   "execution_count": 2,
   "id": "da071caa",
   "metadata": {},
   "outputs": [],
   "source": [
    "import string\n",
    "import pandas as pd\n",
    "import numpy as np\n",
    "import sparknlp\n",
    "from sparknlp.base import *\n",
    "from sparknlp.annotator import *\n",
    "from sparknlp.pretrained import PretrainedPipeline\n",
    "import sparknlp\n",
    "from pyspark.sql import SparkSession\n",
    "from pyspark.ml import Pipeline"
   ]
  },
  {
   "cell_type": "code",
   "execution_count": 3,
   "id": "70f0f34d",
   "metadata": {},
   "outputs": [],
   "source": [
    "# Start Spark Session with Spark NLP\n",
    "spark = sparknlp.start()"
   ]
  },
  {
   "cell_type": "code",
   "execution_count": 4,
   "id": "936de3e6",
   "metadata": {},
   "outputs": [],
   "source": [
    "#read the dataframe\n",
    "cleaned_df = pd.read_csv('../Data/cleanedpandasDf.csv')\n",
    "cleaned_test_df = pd.read_csv('../Data/cleanedpandastestDf.csv')"
   ]
  },
  {
   "cell_type": "code",
   "execution_count": null,
   "id": "d3c7b6a9",
   "metadata": {},
   "outputs": [],
   "source": [
    "#converts the raw texts into a document format \n",
    "documentAssembler = DocumentAssembler()\\\n",
    ".setInputCol(\"text\")\\\n",
    ".setOutputCol(\"document\")\n",
    "\n",
    "## Sentence Detection using Deep Learning\n",
    "sentencerDL = SentenceDetectorDLModel()\\\n",
    ".pretrained(\"sentence_detector_dl\", \"xx\")\\\n",
    ".setInputCols([\"document\"])\\\n",
    " \n",
    "#the language translation model\n",
    "marian = MarianTransformer.pretrained(\"opus_mt_mul_en\", \"xx\").setInputCols([\"sentences\"]).setOutputCol(\"translation\")\n",
    "\n",
    "#building the pipeline for translation\n",
    "marian_pipeline = Pipeline(stages=[documentAssembler, sentencerDL, marian])"
   ]
  },
  {
   "cell_type": "code",
   "execution_count": null,
   "id": "9bfa9310",
   "metadata": {},
   "outputs": [],
   "source": [
    "#convert the pandas df as a spark dataframe.\n",
    "sparkDf = spark.createDataFrame(cleaned_df)\n",
    "sparkTestDf = spark.createDataFrame(cleaned_test_df)"
   ]
  },
  {
   "cell_type": "code",
   "execution_count": null,
   "id": "7a86e627",
   "metadata": {},
   "outputs": [],
   "source": [
    "#translate the dataframe and the test dataframe.\n",
    "result = marian_pipeline.fit(sparkDf).transform(sparkDf)\n",
    "result_test = marian_pipeline.fit(sparkTestDf).transform(sparkTestDf)"
   ]
  },
  {
   "cell_type": "code",
   "execution_count": null,
   "id": "b56fb7e3",
   "metadata": {},
   "outputs": [],
   "source": [
    "# the spark dataframes are converted to be pandas type frame and saved as pickle files (just if needed in this format)\n",
    "pandasdf = result.select(\"level\", \"title\", \"text\", \"description\", \"translation.result\").toPandas()\n",
    "pandasdf.to_csv(\"../Data/translatedCleanedDf.csv\") "
   ]
  },
  {
   "cell_type": "code",
   "execution_count": null,
   "id": "1882884e",
   "metadata": {},
   "outputs": [],
   "source": [
    "pandasdf_test = result.select(\"title\", \"text\", \"description\", \"translation.result\").toPandas()\n",
    "pandasdf_test.to_csv(\"../Data/translatedCleanedTestDf.pkl\")"
   ]
  },
  {
   "cell_type": "code",
   "execution_count": null,
   "id": "9ca27418",
   "metadata": {},
   "outputs": [],
   "source": [
    "#spark.stop()"
   ]
  }
 ],
 "metadata": {
  "kernelspec": {
   "display_name": "Python 3 (ipykernel)",
   "language": "python",
   "name": "python3"
  },
  "language_info": {
   "codemirror_mode": {
    "name": "ipython",
    "version": 3
   },
   "file_extension": ".py",
   "mimetype": "text/x-python",
   "name": "python",
   "nbconvert_exporter": "python",
   "pygments_lexer": "ipython3",
   "version": "3.8.10"
  }
 },
 "nbformat": 4,
 "nbformat_minor": 5
}
